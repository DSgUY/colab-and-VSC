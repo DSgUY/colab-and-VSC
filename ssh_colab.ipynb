{
  "nbformat": 4,
  "nbformat_minor": 0,
  "metadata": {
    "colab": {
      "name": "1-ssh.ipynb",
      "provenance": [],
      "collapsed_sections": []
    },
    "kernelspec": {
      "name": "python3",
      "display_name": "Python 3"
    }
  },
  "cells": [
    {
      "cell_type": "code",
      "metadata": {
        "id": "s39LsoxXljhC",
        "colab_type": "code",
        "colab": {
          "base_uri": "https://localhost:8080/",
          "height": 85
        },
        "outputId": "cdc1ddb2-ec81-4c66-a17c-68486ef3ec5a"
      },
      "source": [
        "#------------------------------------------------------------------------------\n",
        "#                          SSH your co-lab over ngrok\n",
        "#------------------------------------------------------------------------------\n",
        "# Run this script everytime you to connect your co-lab over ssh to ngrok. This \n",
        "# is a copy&paste&run script but you need to do 2 changes:\n",
        "#     <PASSWORD>: set your user passoword\n",
        "#     <TOKEN>: paste your ngrok token\n",
        "#------------------------------------------------------------------------------\n",
        "# Download ngrok\n",
        "! wget -q -c -nc https://bin.equinox.io/c/4VmDzA7iaHb/ngrok-stable-linux-amd64.zip\n",
        "# Unzip ngrok to ngrok folder\n",
        "! unzip -qq -n ngrok-stable-linux-amd64.zip\n",
        "# Remove the zip\n",
        "! rm ngrok-stable-linux-amd64.zip\n",
        "#------------------------------------------------------------------------------\n",
        "#  Uncomment to find your user (default: root)\n",
        "#! whoami\n",
        "# <PASSWORD>: change <USER> password to 'DSgUY'                       **CHANGE**\n",
        "!usermod --password DSgUY root\n",
        "#------------------------------------------------------------------------------\n",
        "# Change some default configuration in sshd_config\n",
        "# to enable remote access\n",
        "! echo \"PasswordAuthentication yes\" > /etc/ssh/sshd_config\n",
        "! echo \"PermitUserEnvironment yes\" >> /etc/ssh/sshd_config\n",
        "! echo \"PermitRootLogin yes\" >> /etc/ssh/sshd_config\n",
        "#------------------------------------------------------------------------------\n",
        "# Install and setup openssh-server\n",
        "! apt-get install openssh-server pwgen > /dev/null\n",
        "# restart ssh service and check status\n",
        "get_ipython().system_raw('service ssh restart')\n",
        "#! service ssh status\n",
        "#------------------------------------------------------------------------------\n",
        "# Create ssh tunnel\n",
        "# login to https://ngrok.com/ and get the token authentication. Token dont change\n",
        "# so you only need it to copy and paste it here once.\n",
        "authtoken = 'wertertXs6L3PsxxxxssSxxPY_6xxxTAxxxqZxxxxx9cBKaQL'      #**CHANGE**\n",
        "try:\n",
        "    #change region if already have something connected -region=eu\n",
        "    get_ipython().system_raw('./ngrok authtoken $authtoken && ./ngrok tcp 22 &')\n",
        "except Exception as ex:\n",
        "    template = \"An exception of type {0} occurred. Arguments:\\n{1!r}\"\n",
        "    message = template.format(type(ex).__name__, ex.args)\n",
        "    print (message)\n",
        "\n",
        "#Get public address and print VSC ssh configuration info\n",
        "! curl -s http://localhost:4040/api/tunnels | python3 -c \\\n",
        "  \"import sys, json;\\\n",
        "   info=json.load(sys.stdin)['tunnels'][0]['public_url'][6:];\\\n",
        "   ip= info.split(':')[0];\\\n",
        "   port=info.split(':')[1];\\\n",
        "   print ('Host co-lab-ssh');\\\n",
        "   print ('  HostName %s'%ip);\\\n",
        "   print ('  User root');\\\n",
        "   print ('  Port %s'%port);\""
      ],
      "execution_count": 11,
      "outputs": [
        {
          "output_type": "stream",
          "text": [
            "Host co-lab-ssh\n",
            "  HostName 0.tcp.ngrok.io\n",
            "  User root\n",
            "  Port 19988\n"
          ],
          "name": "stdout"
        }
      ]
    },
    {
      "cell_type": "code",
      "metadata": {
        "id": "VhSg-5aonGkV",
        "colab_type": "code",
        "colab": {}
      },
      "source": [
        "# You can check more info of your connection in:\n",
        "# https://dashboard.ngrok.com/status/tunnels\n",
        "# Find how to connect your VSC to co-lab using ssh in:\n",
        "#"
      ],
      "execution_count": null,
      "outputs": []
    }
  ]
}