{
  "nbformat": 4,
  "nbformat_minor": 0,
  "metadata": {
    "colab": {
      "name": "1_ssh.ipynb",
      "provenance": [],
      "collapsed_sections": []
    },
    "kernelspec": {
      "name": "python3",
      "display_name": "Python 3"
    }
  },
  "cells": [
    {
      "cell_type": "code",
      "metadata": {
        "id": "s39LsoxXljhC",
        "colab_type": "code",
        "colab": {
          "base_uri": "https://localhost:8080/",
          "height": 170
        },
        "outputId": "dffeae1a-c5be-4b90-9915-a0d3d7b522b0"
      },
      "source": [
        "#------------------------------------------------------------------------------\n",
        "#                          SSH your colab over ngrok\n",
        "#------------------------------------------------------------------------------\n",
        "# Run this script everytime you to connect your colab over ssh to ngrok. This \n",
        "# is a copy&paste&run script but you need to do 2 changes:\n",
        "#     <PASSWORD>: set your user passoword\n",
        "#     <TOKEN>: paste your ngrok token\n",
        "#------------------------------------------------------------------------------\n",
        "# Download ngrok\n",
        "! wget -q -c -nc https://bin.equinox.io/c/4VmDzA7iaHb/ngrok-stable-linux-amd64.zip\n",
        "# Unzip ngrok to ngrok folder\n",
        "! unzip -qq -n ngrok-stable-linux-amd64.zip\n",
        "# Remove the zip\n",
        "! rm ngrok-stable-linux-amd64.zip\n",
        "\n",
        "#  Uncomment to find your user (default: root)\n",
        "#! whoami\n",
        "# <PASSWORD>: change <USER> password to 'DSgUY'                       **CHANGE**\n",
        "! echo -e \"DSgUY\\nDSgUY\" | passwd root\n",
        "\n",
        "# Change some default configuration in sshd_config\n",
        "# to enable remote access\n",
        "! echo \"PasswordAuthentication yes\" > /etc/ssh/sshd_config\n",
        "! echo \"PermitUserEnvironment yes\" >> /etc/ssh/sshd_config\n",
        "! echo \"PermitRootLogin yes\" >> /etc/ssh/sshd_config\n",
        "\n",
        "# Install and setup openssh-server\n",
        "! apt-get install openssh-server pwgen > /dev/null\n",
        "# restart ssh service and check status\n",
        "! service ssh restart\n",
        "! service ssh status\n",
        "\n",
        "# Create ssh tunnel\n",
        "# login to https://ngrok.com/ and get the token authentication. Token dont change\n",
        "# so you only need it to copy and paste it here once.\n",
        "\n",
        "                                                                     #**CHANGE**\n",
        "!./ngrok authtoken xxxxxxxxxxxxxxxxxxxxxxxxxxxxxxxxxxxxxxxxxxxxxxxxx   \n",
        "\n",
        "# change region if already have something connected -region=us or -region=eu\n",
        "# You can check more info of your connection in:\n",
        "# https://dashboard.ngrok.com/status/tunnels\n",
        "import threading\n",
        "def ngrok_connect():\n",
        "  get_ipython().system_raw('./ngrok tcp -region=in 22 ')\n",
        "x = threading.Thread(target=ngrok_connect)\n",
        "x.start()\n",
        "# wait before retrieving info of tunnel\n",
        "! sleep 5\n",
        "\n",
        "# Get public address and print VSC ssh configuration info\n",
        "# If you think that this script is not generating the correct info\n",
        "# restart your colab runtime\n",
        "! curl -s http://localhost:4040/api/tunnels | python3 -c \\\n",
        "  \"import sys, json;\\\n",
        "   info=json.load(sys.stdin)['tunnels'][0]['public_url'][6:];\\\n",
        "   ip= info.split(':')[0];\\\n",
        "   port=info.split(':')[1];\\\n",
        "   print ('Host colab-ssh');\\\n",
        "   print ('  HostName %s'%ip);\\\n",
        "   print ('  User root');\\\n",
        "   print ('  Port %s'%port);\""
      ],
      "execution_count": 5,
      "outputs": [
        {
          "output_type": "stream",
          "text": [
            "Enter new UNIX password: Retype new UNIX password: passwd: password updated successfully\n",
            " * Restarting OpenBSD Secure Shell server sshd\n",
            "   ...done.\n",
            " * sshd is running\n",
            "Authtoken saved to configuration file: /root/.ngrok2/ngrok.yml\n",
            "Host colab-ssh\n",
            "  HostName 0.tcp.in.ngrok.io\n",
            "  User root\n",
            "  Port 14560\n"
          ],
          "name": "stdout"
        }
      ]
    }
  ]
}
